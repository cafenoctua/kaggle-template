{
  "nbformat": 4,
  "nbformat_minor": 0,
  "metadata": {
    "kernelspec": {
      "display_name": "Python 3",
      "language": "python",
      "name": "python3"
    },
    "language_info": {
      "codemirror_mode": {
        "name": "ipython",
        "version": 3
      },
      "file_extension": ".py",
      "mimetype": "text/x-python",
      "name": "python",
      "nbconvert_exporter": "python",
      "pygments_lexer": "ipython3",
      "version": "3.7.9"
    },
    "colab": {
      "name": "templateColab.ipynb",
      "provenance": [],
      "include_colab_link": true
    }
  },
  "cells": [
    {
      "cell_type": "markdown",
      "metadata": {
        "id": "view-in-github",
        "colab_type": "text"
      },
      "source": [
        "<a href=\"https://colab.research.google.com/github/greatestgoat/kaggle-template/blob/PushNotebooks/project/Notebook/templateColab.ipynb\" target=\"_parent\"><img src=\"https://colab.research.google.com/assets/colab-badge.svg\" alt=\"Open In Colab\"/></a>"
      ]
    },
    {
      "cell_type": "markdown",
      "metadata": {
        "id": "iSkj5Nf1JVyr"
      },
      "source": [
        "<a href=\"https://colab.research.google.com/github.com/greatestgoat/kaggle-template/tree/PushNotebooks/project/Notebook/templateColab.ipynb\" target=\"_parent\"><img src=\"https://colab.research.google.com/assets/colab-badge.svg\" alt=\"Open In Colab\"/></a>"
      ]
    },
    {
      "cell_type": "code",
      "metadata": {
        "id": "vEU4ZfVaJVy9",
        "outputId": "e406ae1a-adc2-4751-c23a-4f60b526887c",
        "colab": {
          "base_uri": "https://localhost:8080/"
        }
      },
      "source": [
        "gpu_info = !nvidia-smi\n",
        "gpu_info = '\\n'.join(gpu_info)\n",
        "print(gpu_info)"
      ],
      "execution_count": 1,
      "outputs": [
        {
          "output_type": "stream",
          "text": [
            "NVIDIA-SMI has failed because it couldn't communicate with the NVIDIA driver. Make sure that the latest NVIDIA driver is installed and running.\n",
            "\n"
          ],
          "name": "stdout"
        }
      ]
    },
    {
      "cell_type": "markdown",
      "metadata": {
        "id": "hhM__xUjJVzA"
      },
      "source": [
        "# Configurations"
      ]
    },
    {
      "cell_type": "code",
      "metadata": {
        "id": "_bvUC7PrJVzD",
        "outputId": "4e92f090-1e6e-4985-fc5c-eb6ced0ecd98",
        "colab": {
          "base_uri": "https://localhost:8080/"
        }
      },
      "source": [
        "!git clone -b PushNotebooks https://github.com/greatestgoat/kaggle-template.git"
      ],
      "execution_count": 2,
      "outputs": [
        {
          "output_type": "stream",
          "text": [
            "fatal: destination path 'kaggle-template' already exists and is not an empty directory.\n"
          ],
          "name": "stdout"
        }
      ]
    },
    {
      "cell_type": "code",
      "metadata": {
        "id": "SN-4yA2qJ96O",
        "outputId": "69897b2d-d753-4ffa-f05d-15d7cc632907",
        "colab": {
          "base_uri": "https://localhost:8080/"
        }
      },
      "source": [
        "%cd kaggle-template/"
      ],
      "execution_count": 3,
      "outputs": [
        {
          "output_type": "stream",
          "text": [
            "/content/kaggle-template\n"
          ],
          "name": "stdout"
        }
      ]
    },
    {
      "cell_type": "code",
      "metadata": {
        "id": "_BDn73m7JVzD"
      },
      "source": [
        "!pip install -qr ./requirements.txt"
      ],
      "execution_count": 4,
      "outputs": []
    },
    {
      "cell_type": "code",
      "metadata": {
        "id": "F8ZKIqx0LqF1"
      },
      "source": [
        "try:\n",
        "    from google.colab import auth\n",
        "    auth.authenticate_user()\n",
        "except ImportError:\n",
        "    pass"
      ],
      "execution_count": 5,
      "outputs": []
    },
    {
      "cell_type": "code",
      "metadata": {
        "id": "ite6nJbpMFsR",
        "outputId": "de24f3b8-56c6-470c-ff01-b7b3f6838f29",
        "colab": {
          "base_uri": "https://localhost:8080/"
        }
      },
      "source": [
        "from google.colab import drive\n",
        "drive.mount('/content/drive')"
      ],
      "execution_count": 6,
      "outputs": [
        {
          "output_type": "stream",
          "text": [
            "Drive already mounted at /content/drive; to attempt to forcibly remount, call drive.mount(\"/content/drive\", force_remount=True).\n"
          ],
          "name": "stdout"
        }
      ]
    },
    {
      "cell_type": "code",
      "metadata": {
        "id": "H9BfaP9_MZF8"
      },
      "source": [
        "auth_path = '/content/drive/MyDrive/auth/template'"
      ],
      "execution_count": 7,
      "outputs": []
    },
    {
      "cell_type": "code",
      "metadata": {
        "id": "C7qWsU6SJVzB"
      },
      "source": [
        "import os\n",
        "from dotenv import load_dotenv\n",
        "from pathlib import Path\n",
        "env_path = auth_path + '/.env'\n",
        "load_dotenv(dotenv_path=env_path)\n",
        "\n",
        "\n",
        "\n",
        "GITHUB_OWNER = os.getenv('GITHUB_OWNER')\n",
        "REPOSITORY_NAME = os.getenv(\"REPOSITORY_NAME\")\n",
        "PROJECT_ID = os.getenv(\"PROJECT_ID\")\n",
        "BUCKET_NAME = os.getenv(\"BUCKET_NAME\")\n",
        "\n",
        "os.environ[\"GCLOUD_PROJECT\"] = PROJECT_ID"
      ],
      "execution_count": 8,
      "outputs": []
    },
    {
      "cell_type": "code",
      "metadata": {
        "id": "4N9ztO3GN_UP",
        "outputId": "9bbcfc90-7477-4156-d3f1-c767718da9b8",
        "colab": {
          "base_uri": "https://localhost:8080/",
          "height": 35
        }
      },
      "source": [
        "BUCKET_NAME"
      ],
      "execution_count": 9,
      "outputs": [
        {
          "output_type": "execute_result",
          "data": {
            "application/vnd.google.colaboratory.intrinsic+json": {
              "type": "string"
            },
            "text/plain": [
              "'kaggleops-project'"
            ]
          },
          "metadata": {
            "tags": []
          },
          "execution_count": 9
        }
      ]
    },
    {
      "cell_type": "code",
      "metadata": {
        "id": "mx8YCt77JVzC"
      },
      "source": [
        "from google.cloud import storage\n",
        "storage_client = storage.Client(project=PROJECT_ID)"
      ],
      "execution_count": 10,
      "outputs": []
    },
    {
      "cell_type": "code",
      "metadata": {
        "id": "yn3AniBsJVzE",
        "outputId": "2276f218-aa31-4eda-d38d-26a1c15330b4",
        "colab": {
          "base_uri": "https://localhost:8080/"
        }
      },
      "source": [
        "cd ./project/src"
      ],
      "execution_count": 11,
      "outputs": [
        {
          "output_type": "stream",
          "text": [
            "/content/kaggle-template/project/src\n"
          ],
          "name": "stdout"
        }
      ]
    },
    {
      "cell_type": "code",
      "metadata": {
        "id": "6lCzDiOiJVzE",
        "outputId": "1861e6c5-b9f5-46c1-df2c-e9289e25854e",
        "colab": {
          "base_uri": "https://localhost:8080/"
        }
      },
      "source": [
        "!gcloud config set project {PROJECT_ID}"
      ],
      "execution_count": 12,
      "outputs": [
        {
          "output_type": "stream",
          "text": [
            "Updated property [core/project].\n"
          ],
          "name": "stdout"
        }
      ]
    },
    {
      "cell_type": "code",
      "metadata": {
        "id": "EoNLKRhWJVzF"
      },
      "source": [
        "blobs = storage_client.list_blobs(BUCKET_NAME)\n",
        "for blob in blobs:\n",
        "    filepath = blob.name\n",
        "    if filepath[:7]==\"mlruns/\" and len(filepath)!=7:\n",
        "        os.makedirs(\"/\".join(filepath.split(\"/\")[:-1]), exist_ok=True)\n",
        "        blob.download_to_filename(filepath)"
      ],
      "execution_count": 13,
      "outputs": []
    },
    {
      "cell_type": "markdown",
      "metadata": {
        "id": "O8JuzKm7JVzF"
      },
      "source": [
        "# Run script"
      ]
    },
    {
      "cell_type": "code",
      "metadata": {
        "id": "A4CoH2tuJVzG",
        "outputId": "be41e7d3-4153-44ce-f6bc-206acc3b1132",
        "colab": {
          "base_uri": "https://localhost:8080/"
        }
      },
      "source": [
        "!python helloworld.py"
      ],
      "execution_count": 14,
      "outputs": [
        {
          "output_type": "stream",
          "text": [
            "Hello world\n"
          ],
          "name": "stdout"
        }
      ]
    },
    {
      "cell_type": "markdown",
      "metadata": {
        "id": "5FSubT1cJVzG"
      },
      "source": [
        "# Save file to GCS(mlruns)"
      ]
    },
    {
      "cell_type": "code",
      "metadata": {
        "id": "O8f8YB7tJVzG"
      },
      "source": [
        "import glob\n",
        "\n",
        "files = [f for f in glob.glob(\"mlruns/**\", recursive=True) if f[:7]==\"mlruns/\" and len(f)!=7]\n",
        "files_in_bucket = [f.name for f in storage_client.list_blobs(BUCKET_NAME)]\n",
        "bucket = storage_client.get_bucket(BUCKET_NAME)\n",
        "\n",
        "for f in files:\n",
        "    try:\n",
        "        if f not in files_in_bucket:\n",
        "            blob = bucket.blob(f)\n",
        "            blob.upload_from_filename(f)\n",
        "    except:\n",
        "        pass"
      ],
      "execution_count": 15,
      "outputs": []
    },
    {
      "cell_type": "code",
      "metadata": {
        "id": "96VWqyYOOGn1"
      },
      "source": [
        ""
      ],
      "execution_count": null,
      "outputs": []
    }
  ]
}