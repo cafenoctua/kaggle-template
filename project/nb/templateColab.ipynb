{
  "nbformat": 4,
  "nbformat_minor": 0,
  "metadata": {
    "kernelspec": {
      "display_name": "Python 3",
      "language": "python",
      "name": "python3"
    },
    "language_info": {
      "codemirror_mode": {
        "name": "ipython",
        "version": 3
      },
      "file_extension": ".py",
      "mimetype": "text/x-python",
      "name": "python",
      "nbconvert_exporter": "python",
      "pygments_lexer": "ipython3",
      "version": "3.7.9"
    },
    "colab": {
      "name": "templateColab.ipynb",
      "provenance": [],
      "toc_visible": true,
      "include_colab_link": true
    }
  },
  "cells": [
    {
      "cell_type": "markdown",
      "metadata": {
        "id": "view-in-github",
        "colab_type": "text"
      },
      "source": [
        "<a href=\"https://colab.research.google.com/github/greatestgoat/kaggle-template/blob/main/project/Notebook/templateColab.ipynb\" target=\"_parent\"><img src=\"https://colab.research.google.com/assets/colab-badge.svg\" alt=\"Open In Colab\"/></a>"
      ]
    },
    {
      "cell_type": "markdown",
      "metadata": {
        "id": "iSkj5Nf1JVyr"
      },
      "source": [
        "<a href=\"https://colab.research.google.com/github.com/greatestgoat/kaggle-template/tree/PushNotebooks/project/Notebook/templateColab.ipynb\" target=\"_parent\"><img src=\"https://colab.research.google.com/assets/colab-badge.svg\" alt=\"Open In Colab\"/></a>"
      ]
    },
    {
      "cell_type": "code",
      "metadata": {
        "id": "vEU4ZfVaJVy9",
        "colab": {
          "base_uri": "https://localhost:8080/"
        },
        "outputId": "0b43cf91-26ee-43ee-fc60-1a8a669588ba"
      },
      "source": [
        "gpu_info = !nvidia-smi\n",
        "gpu_info = '\\n'.join(gpu_info)\n",
        "print(gpu_info)"
      ],
      "execution_count": 1,
      "outputs": [
        {
          "output_type": "stream",
          "text": [
            "NVIDIA-SMI has failed because it couldn't communicate with the NVIDIA driver. Make sure that the latest NVIDIA driver is installed and running.\n",
            "\n"
          ],
          "name": "stdout"
        }
      ]
    },
    {
      "cell_type": "markdown",
      "metadata": {
        "id": "hhM__xUjJVzA"
      },
      "source": [
        "# Configurations"
      ]
    },
    {
      "cell_type": "code",
      "metadata": {
        "id": "_bvUC7PrJVzD",
        "colab": {
          "base_uri": "https://localhost:8080/"
        },
        "outputId": "aa398d91-c8f4-4208-ccc9-952ebffe6adb"
      },
      "source": [
        "!git clone https://github.com/greatestgoat/kaggle-template.git"
      ],
      "execution_count": 6,
      "outputs": [
        {
          "output_type": "stream",
          "text": [
            "Cloning into 'kaggle-template'...\n",
            "remote: Enumerating objects: 60, done.\u001b[K\n",
            "remote: Counting objects: 100% (60/60), done.\u001b[K\n",
            "remote: Compressing objects: 100% (48/48), done.\u001b[K\n",
            "remote: Total 60 (delta 21), reused 38 (delta 9), pack-reused 0\u001b[K\n",
            "Unpacking objects: 100% (60/60), done.\n"
          ],
          "name": "stdout"
        }
      ]
    },
    {
      "cell_type": "code",
      "metadata": {
        "id": "SN-4yA2qJ96O",
        "colab": {
          "base_uri": "https://localhost:8080/"
        },
        "outputId": "29661818-bab5-4432-b839-3810fa02b0c7"
      },
      "source": [
        "%cd kaggle-template/"
      ],
      "execution_count": 7,
      "outputs": [
        {
          "output_type": "stream",
          "text": [
            "/content/kaggle-template\n"
          ],
          "name": "stdout"
        }
      ]
    },
    {
      "cell_type": "code",
      "metadata": {
        "id": "_BDn73m7JVzD"
      },
      "source": [
        "!pip install -qr ./requirements.txt"
      ],
      "execution_count": 8,
      "outputs": []
    },
    {
      "cell_type": "code",
      "metadata": {
        "id": "F8ZKIqx0LqF1"
      },
      "source": [
        "try:\n",
        "    from google.colab import auth\n",
        "    auth.authenticate_user()\n",
        "except ImportError:\n",
        "    pass"
      ],
      "execution_count": 9,
      "outputs": []
    },
    {
      "cell_type": "code",
      "metadata": {
        "id": "ite6nJbpMFsR",
        "colab": {
          "base_uri": "https://localhost:8080/"
        },
        "outputId": "4d45a117-a023-4a55-d67b-4c71670a4f48"
      },
      "source": [
        "from google.colab import drive\n",
        "drive.mount('/content/drive')"
      ],
      "execution_count": 10,
      "outputs": [
        {
          "output_type": "stream",
          "text": [
            "Mounted at /content/drive\n"
          ],
          "name": "stdout"
        }
      ]
    },
    {
      "cell_type": "code",
      "metadata": {
        "id": "H9BfaP9_MZF8"
      },
      "source": [
        "auth_path = '/content/drive/MyDrive/auth/template'"
      ],
      "execution_count": 11,
      "outputs": []
    },
    {
      "cell_type": "code",
      "metadata": {
        "id": "C7qWsU6SJVzB"
      },
      "source": [
        "import os\n",
        "from dotenv import load_dotenv\n",
        "from pathlib import Path\n",
        "env_path = auth_path + '/.env'\n",
        "load_dotenv(dotenv_path=env_path)\n",
        "\n",
        "\n",
        "\n",
        "GITHUB_OWNER = os.getenv('GITHUB_OWNER')\n",
        "REPOSITORY_NAME = os.getenv(\"REPOSITORY_NAME\")\n",
        "PROJECT_ID = os.getenv(\"PROJECT_ID\")\n",
        "BUCKET_NAME = os.getenv(\"BUCKET_NAME\")\n",
        "\n",
        "os.environ[\"GCLOUD_PROJECT\"] = PROJECT_ID"
      ],
      "execution_count": 12,
      "outputs": []
    },
    {
      "cell_type": "code",
      "metadata": {
        "id": "4N9ztO3GN_UP",
        "colab": {
          "base_uri": "https://localhost:8080/",
          "height": 35
        },
        "outputId": "40798b63-28f4-4f6e-a34d-bec41ff578d5"
      },
      "source": [
        "BUCKET_NAME"
      ],
      "execution_count": 13,
      "outputs": [
        {
          "output_type": "execute_result",
          "data": {
            "application/vnd.google.colaboratory.intrinsic+json": {
              "type": "string"
            },
            "text/plain": [
              "'kaggleops-project'"
            ]
          },
          "metadata": {
            "tags": []
          },
          "execution_count": 13
        }
      ]
    },
    {
      "cell_type": "code",
      "metadata": {
        "id": "mx8YCt77JVzC"
      },
      "source": [
        "from google.cloud import storage\n",
        "storage_client = storage.Client(project=PROJECT_ID)"
      ],
      "execution_count": 14,
      "outputs": []
    },
    {
      "cell_type": "code",
      "metadata": {
        "id": "yn3AniBsJVzE",
        "colab": {
          "base_uri": "https://localhost:8080/"
        },
        "outputId": "71d9e66a-ded7-421c-ae8a-ffad23cbb818"
      },
      "source": [
        "cd ./project/src"
      ],
      "execution_count": 15,
      "outputs": [
        {
          "output_type": "stream",
          "text": [
            "/content/kaggle-template/project/src\n"
          ],
          "name": "stdout"
        }
      ]
    },
    {
      "cell_type": "code",
      "metadata": {
        "id": "6lCzDiOiJVzE",
        "colab": {
          "base_uri": "https://localhost:8080/"
        },
        "outputId": "f85dfa2f-93b2-4067-d7dc-afeffd196790"
      },
      "source": [
        "!gcloud config set project {PROJECT_ID}"
      ],
      "execution_count": 16,
      "outputs": [
        {
          "output_type": "stream",
          "text": [
            "Updated property [core/project].\n"
          ],
          "name": "stdout"
        }
      ]
    },
    {
      "cell_type": "code",
      "metadata": {
        "id": "EoNLKRhWJVzF"
      },
      "source": [
        "blobs = storage_client.list_blobs(BUCKET_NAME)\n",
        "for blob in blobs:\n",
        "    filepath = blob.name\n",
        "    if filepath[:7]==\"mlruns/\" and len(filepath)!=7:\n",
        "        os.makedirs(\"/\".join(filepath.split(\"/\")[:-1]), exist_ok=True)\n",
        "        blob.download_to_filename(filepath)"
      ],
      "execution_count": 17,
      "outputs": []
    },
    {
      "cell_type": "markdown",
      "metadata": {
        "id": "O8JuzKm7JVzF"
      },
      "source": [
        "# Run script"
      ]
    },
    {
      "cell_type": "code",
      "metadata": {
        "id": "A4CoH2tuJVzG",
        "colab": {
          "base_uri": "https://localhost:8080/"
        },
        "outputId": "35323f20-3c52-48eb-c0c7-40d4f8ea3570"
      },
      "source": [
        "!python helloworld.py"
      ],
      "execution_count": 18,
      "outputs": [
        {
          "output_type": "stream",
          "text": [
            "Hello world\n"
          ],
          "name": "stdout"
        }
      ]
    },
    {
      "cell_type": "markdown",
      "metadata": {
        "id": "5FSubT1cJVzG"
      },
      "source": [
        "# Save file to GCS(mlruns)"
      ]
    },
    {
      "cell_type": "code",
      "metadata": {
        "id": "O8f8YB7tJVzG"
      },
      "source": [
        "import glob\n",
        "\n",
        "files = [f for f in glob.glob(\"mlruns/**\", recursive=True) if f[:7]==\"mlruns/\" and len(f)!=7]\n",
        "files_in_bucket = [f.name for f in storage_client.list_blobs(BUCKET_NAME)]\n",
        "bucket = storage_client.get_bucket(BUCKET_NAME)\n",
        "\n",
        "for f in files:\n",
        "    try:\n",
        "        if f not in files_in_bucket:\n",
        "            blob = bucket.blob(f)\n",
        "            blob.upload_from_filename(f)\n",
        "    except:\n",
        "        pass"
      ],
      "execution_count": 19,
      "outputs": []
    },
    {
      "cell_type": "code",
      "metadata": {
        "id": "96VWqyYOOGn1"
      },
      "source": [
        ""
      ],
      "execution_count": null,
      "outputs": []
    }
  ]
}